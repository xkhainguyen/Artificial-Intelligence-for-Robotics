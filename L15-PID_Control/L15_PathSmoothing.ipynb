{
 "cells": [
  {
   "cell_type": "code",
   "execution_count": 29,
   "metadata": {},
   "outputs": [
    {
     "name": "stdout",
     "output_type": "stream",
     "text": [
      "[0.000, 0.000] -> [0.000, 0.000]\n",
      "[0.000, 1.000] -> [0.021, 0.979]\n",
      "[0.000, 2.000] -> [0.149, 1.851]\n",
      "[1.000, 2.000] -> [1.021, 1.979]\n",
      "[2.000, 2.000] -> [2.000, 2.000]\n",
      "[3.000, 2.000] -> [2.979, 2.021]\n",
      "[4.000, 2.000] -> [3.851, 2.149]\n",
      "[4.000, 3.000] -> [3.979, 3.021]\n",
      "[4.000, 4.000] -> [4.000, 4.000]\n"
     ]
    }
   ],
   "source": [
    "# -----------\n",
    "# User Instructions\n",
    "#\n",
    "# Define a function smooth that takes a path as its input\n",
    "# (with optional parameters for weight_data, weight_smooth,\n",
    "# and tolerance) and returns a smooth path. The first and \n",
    "# last points should remain unchanged.\n",
    "#\n",
    "# Smoothing should be implemented by iteratively updating\n",
    "# each entry in newpath until some desired level of accuracy\n",
    "# is reached. The update should be done according to the\n",
    "# gradient descent equations given in the instructor's note\n",
    "# below (the equations given in the video are not quite \n",
    "# correct).\n",
    "# -----------\n",
    "\n",
    "from copy import deepcopy\n",
    "\n",
    "# thank you to EnTerr for posting this on our discussion forum\n",
    "def printpaths(path,newpath):\n",
    "    for old,new in zip(path,newpath):\n",
    "        print('['+ ', '.join(map(lambda x: '{:.3f}'.format(x), old)) + \\\n",
    "               '] -> ['+ ', '.join(map(lambda x: '{:.3f}'.format(x), new)) +']')\n",
    "\n",
    "# Don't modify path inside your function.\n",
    "path = [[0, 0],\n",
    "        [0, 1],\n",
    "        [0, 2],\n",
    "        [1, 2],\n",
    "        [2, 2],\n",
    "        [3, 2],\n",
    "        [4, 2],\n",
    "        [4, 3],\n",
    "        [4, 4]]\n",
    "\n",
    "def smooth(path, weight_data = 0.5, weight_smooth = 0.1, tolerance = 0.000001):\n",
    "\n",
    "    # Make a deep copy of path into newpath\n",
    "    newpath = deepcopy(path)\n",
    "\n",
    "    #######################\n",
    "    ### ENTER CODE HERE ###\n",
    "    #######################\n",
    "    change = tolerance\n",
    "    while change >= tolerance:\n",
    "        change = 0.\n",
    "        for i in range(1,len(path)-1):\n",
    "            for j in range(len(path[0])):\n",
    "                delta = weight_data*(path[i][j] - newpath[i][j]) + \\\n",
    "                        weight_smooth*(newpath[i+1][j] + newpath[i-1][j] - 2.*newpath[i][j])\n",
    "                newpath[i][j] += delta\n",
    "                change += abs(delta)\n",
    "\n",
    "    return newpath # Leave this line for the grader!\n",
    "\n",
    "printpaths(path,smooth(path))\n"
   ]
  },
  {
   "cell_type": "code",
   "execution_count": null,
   "metadata": {},
   "outputs": [],
   "source": []
  }
 ],
 "metadata": {
  "kernelspec": {
   "display_name": "Python 3",
   "language": "python",
   "name": "python3"
  },
  "language_info": {
   "codemirror_mode": {
    "name": "ipython",
    "version": 3
   },
   "file_extension": ".py",
   "mimetype": "text/x-python",
   "name": "python",
   "nbconvert_exporter": "python",
   "pygments_lexer": "ipython3",
   "version": "3.8.5"
  }
 },
 "nbformat": 4,
 "nbformat_minor": 4
}
